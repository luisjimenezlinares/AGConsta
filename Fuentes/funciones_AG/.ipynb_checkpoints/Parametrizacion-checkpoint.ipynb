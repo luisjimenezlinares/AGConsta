{
 "cells": [
  {
   "cell_type": "code",
   "execution_count": 1,
   "metadata": {
    "collapsed": false
   },
   "outputs": [],
   "source": [
    "from __future__ import division\n",
    "\n",
    "from deap import algorithms\n",
    "from deap import base\n",
    "from deap import creator\n",
    "from deap import tools\n",
    "\n",
    "from sklearn.preprocessing import StandardScaler\n",
    "\n",
    "from read_series import read_series\n",
    "from tabulate import tabulate\n",
    "\n",
    "from segmentsf import *\n",
    "\n",
    "import numpy as np\n",
    "import random\n",
    "\n",
    "import numpy as np\n",
    "\n",
    "import multiprocessing\n",
    "import time\n",
    "import csv"
   ]
  },
  {
   "cell_type": "code",
   "execution_count": 2,
   "metadata": {
    "collapsed": false
   },
   "outputs": [],
   "source": [
    "def register_general_operators(toolbox, S):\n",
    "    toolbox.register('generate', generate.random_generate, L=len(S[0]), S=S)\n",
    "    toolbox.register('population', tools.initRepeat, list, toolbox.generate)\n",
    "    toolbox.register('mutate', mutation.mutation, \n",
    "                     mu=0, \n",
    "                     sigma=0.05, \n",
    "                     lows=generate.minimos(S), \n",
    "                     ups=generate.maximos(S), \n",
    "                     desp = int(len(S[0]) * 0.1))\n",
    "    toolbox.register('mate', crossover.crossover)\n",
    "    toolbox.register('select', tools.selTournament, tournsize=10)\n",
    "    toolbox.register('evaluate', \n",
    "                     fitness.fitness_fastdtw, \n",
    "                     S=S, \n",
    "                     vp=0.01)\n",
    "    \n",
    "    #pool = multiprocessing.Pool()\n",
    "    #toolbox.register('map', pool.map)"
   ]
  },
  {
   "cell_type": "code",
   "execution_count": 4,
   "metadata": {
    "collapsed": false
   },
   "outputs": [],
   "source": [
    "ss = StandardScaler()\n",
    "\n",
    "#Parametros fijos\n",
    "POPULATION = 100\n",
    "GENERACIONES = 50\n",
    "CXPB = 0.2\n",
    "MUTPB = 0.1\n",
    "LAMBDA = 100\n",
    "MU = 70\n",
    "datasets = ['45_series', '50words', 'adiac', 'cricket', \\\n",
    "           'ecg_five_days_df', 'gestures', 'medical_images',\\\n",
    "           'syntetic_control']\n",
    "\n",
    "creator.create('FitnessMin', base.Fitness, weights=(-1.0,))\n",
    "creator.create('Individual', list, fitness=creator.FitnessMin)"
   ]
  },
  {
   "cell_type": "code",
   "execution_count": 4,
   "metadata": {
    "collapsed": false,
    "scrolled": false
   },
   "outputs": [
    {
     "name": "stdout",
     "output_type": "stream",
     "text": [
      "Fitness mejor serie[45_series][0.01%]:  4047.78475997\n",
      "Fitness mejor serie[45_series][0.02%]:  2997.61013399\n",
      "Fitness mejor serie[45_series][0.03%]:  5820.34283791\n",
      "Fitness mejor serie[50words][0.01%]:  4.30957388088\n",
      "Fitness mejor serie[50words][0.02%]:  4.92265860537\n",
      "Fitness mejor serie[50words][0.03%]:  3.56853925762\n",
      "Fitness mejor serie[gestures][0.01%]:  7.37898559233\n",
      "Fitness mejor serie[gestures][0.02%]:  7.63360952507\n",
      "Fitness mejor serie[gestures][0.03%]:  3.79678912704\n",
      "Fitness mejor serie[medical_images][0.01%]:  0.374804214701\n",
      "Fitness mejor serie[medical_images][0.02%]:  0.515134718381\n",
      "Fitness mejor serie[medical_images][0.03%]:  0.582181550237\n"
     ]
    }
   ],
   "source": [
    "#Seleccion de ventana de DTW\n",
    "#Los % de radio mas pequenos tendran el mismo efecto en 45 series, \n",
    "#porque la ventana sera demasiado pequeña\n",
    "ventanas = [.01, .02, .03, .04, .05, .06, .07, .08, \\\n",
    "            .09, .10, .15]\n",
    "ventanas_resultados = []\n",
    "ventanas_names = map(lambda x: str(x)+'%', ventanas)\n",
    "\n",
    "toolbox = base.Toolbox()\n",
    "for datos in datasets:\n",
    "    S = read_series('../../Datos/aux/{0}.csv'.format(datos))\n",
    "    S_norm = ss.fit_transform(S)\n",
    "    register_general_operators(toolbox, S_norm)\n",
    "    for i, ventana in enumerate(ventanas):\n",
    "        toolbox.register('evaluate', \n",
    "                         fitness.fitness_fastdtw, \n",
    "                         S=S_norm, \n",
    "                         vp=ventana)\n",
    "        hof = tools.HallOfFame(1)\n",
    "        pop = toolbox.population(n=POPULATION)\n",
    "        \n",
    "        t1 = time.time()\n",
    "        pop, log = algorithms.eaSimple(pop, \n",
    "                            toolbox, \n",
    "                            cxpb=CXPB, \n",
    "                            mutpb=MUTPB, \n",
    "                            ngen=GENERACIONES, \n",
    "                            stats = None, \n",
    "                            halloffame=hof, verbose=False)\n",
    "        tfinal = time.time() - t1\n",
    "        C = hof[0]\n",
    "        C = ss.inverse_transform(hof[0])\n",
    "        fitness_mejor = fitness.fitness_dtw(C, S)[0]\n",
    "        print 'Fitness mejor serie[{0}][{1}]: '.format(datos, ventanas_names[i]), fitness_mejor\n",
    "        ventanas_resultados.append([ventanas_names[i], datos, fitness_mejor, tfinal])\n",
    "\n",
    "f = open('ventana_medidas.csv', 'w')\n",
    "csvf =csv.writer(f)\n",
    "csvf.writerow(['Ventana', 'Dataset', 'Fitness', 'Tiempo(s)'])\n",
    "csvf.writerows(ventanas_resultados)"
   ]
  },
  {
   "cell_type": "code",
   "execution_count": 5,
   "metadata": {
    "collapsed": false
   },
   "outputs": [
    {
     "name": "stdout",
     "output_type": "stream",
     "text": [
      "Algoritmo[eaSimple]: 45_series\n"
     ]
    },
    {
     "ename": "KeyboardInterrupt",
     "evalue": "",
     "output_type": "error",
     "traceback": [
      "\u001b[0;31m---------------------------------------------------------------------------\u001b[0m",
      "\u001b[0;31mKeyboardInterrupt\u001b[0m                         Traceback (most recent call last)",
      "\u001b[0;32m<ipython-input-5-fc9960a786a3>\u001b[0m in \u001b[0;36m<module>\u001b[0;34m()\u001b[0m\n\u001b[1;32m     32\u001b[0m                                      \u001b[0mstats\u001b[0m \u001b[0;34m=\u001b[0m \u001b[0mstats\u001b[0m\u001b[0;34m,\u001b[0m\u001b[0;34m\u001b[0m\u001b[0m\n\u001b[1;32m     33\u001b[0m                                      \u001b[0mhalloffame\u001b[0m\u001b[0;34m=\u001b[0m\u001b[0mhof\u001b[0m\u001b[0;34m,\u001b[0m\u001b[0;34m\u001b[0m\u001b[0m\n\u001b[0;32m---> 34\u001b[0;31m                                      verbose=False)\n\u001b[0m\u001b[1;32m     35\u001b[0m         \u001b[0;32melif\u001b[0m \u001b[0malgoritmos_names\u001b[0m\u001b[0;34m[\u001b[0m\u001b[0mi\u001b[0m\u001b[0;34m]\u001b[0m \u001b[0;34m==\u001b[0m \u001b[0;34m'eaMuCommaLambda'\u001b[0m\u001b[0;34m:\u001b[0m\u001b[0;34m\u001b[0m\u001b[0m\n\u001b[1;32m     36\u001b[0m             pop, log = algoritmos[i](pop, \n",
      "\u001b[0;32m/home/pablo/anaconda2/lib/python2.7/site-packages/deap/algorithms.pyc\u001b[0m in \u001b[0;36meaSimple\u001b[0;34m(population, toolbox, cxpb, mutpb, ngen, stats, halloffame, verbose)\u001b[0m\n\u001b[1;32m    167\u001b[0m         \u001b[0;31m# Evaluate the individuals with an invalid fitness\u001b[0m\u001b[0;34m\u001b[0m\u001b[0;34m\u001b[0m\u001b[0m\n\u001b[1;32m    168\u001b[0m         \u001b[0minvalid_ind\u001b[0m \u001b[0;34m=\u001b[0m \u001b[0;34m[\u001b[0m\u001b[0mind\u001b[0m \u001b[0;32mfor\u001b[0m \u001b[0mind\u001b[0m \u001b[0;32min\u001b[0m \u001b[0moffspring\u001b[0m \u001b[0;32mif\u001b[0m \u001b[0;32mnot\u001b[0m \u001b[0mind\u001b[0m\u001b[0;34m.\u001b[0m\u001b[0mfitness\u001b[0m\u001b[0;34m.\u001b[0m\u001b[0mvalid\u001b[0m\u001b[0;34m]\u001b[0m\u001b[0;34m\u001b[0m\u001b[0m\n\u001b[0;32m--> 169\u001b[0;31m         \u001b[0mfitnesses\u001b[0m \u001b[0;34m=\u001b[0m \u001b[0mtoolbox\u001b[0m\u001b[0;34m.\u001b[0m\u001b[0mmap\u001b[0m\u001b[0;34m(\u001b[0m\u001b[0mtoolbox\u001b[0m\u001b[0;34m.\u001b[0m\u001b[0mevaluate\u001b[0m\u001b[0;34m,\u001b[0m \u001b[0minvalid_ind\u001b[0m\u001b[0;34m)\u001b[0m\u001b[0;34m\u001b[0m\u001b[0m\n\u001b[0m\u001b[1;32m    170\u001b[0m         \u001b[0;32mfor\u001b[0m \u001b[0mind\u001b[0m\u001b[0;34m,\u001b[0m \u001b[0mfit\u001b[0m \u001b[0;32min\u001b[0m \u001b[0mzip\u001b[0m\u001b[0;34m(\u001b[0m\u001b[0minvalid_ind\u001b[0m\u001b[0;34m,\u001b[0m \u001b[0mfitnesses\u001b[0m\u001b[0;34m)\u001b[0m\u001b[0;34m:\u001b[0m\u001b[0;34m\u001b[0m\u001b[0m\n\u001b[1;32m    171\u001b[0m             \u001b[0mind\u001b[0m\u001b[0;34m.\u001b[0m\u001b[0mfitness\u001b[0m\u001b[0;34m.\u001b[0m\u001b[0mvalues\u001b[0m \u001b[0;34m=\u001b[0m \u001b[0mfit\u001b[0m\u001b[0;34m\u001b[0m\u001b[0m\n",
      "\u001b[0;32m/home/pablo/Documentos/TFG/repositorio/ag-costane/Fuentes/funciones_AG/segmentsf/fitness.pyc\u001b[0m in \u001b[0;36mfitness_fastdtw\u001b[0;34m(C, S, vp)\u001b[0m\n\u001b[1;32m      9\u001b[0m     \u001b[0mradio\u001b[0m \u001b[0;34m=\u001b[0m \u001b[0mmax\u001b[0m\u001b[0;34m(\u001b[0m\u001b[0;36m1\u001b[0m\u001b[0;34m,\u001b[0m \u001b[0mint\u001b[0m\u001b[0;34m(\u001b[0m\u001b[0mlen\u001b[0m\u001b[0;34m(\u001b[0m\u001b[0mS\u001b[0m\u001b[0;34m[\u001b[0m\u001b[0;36m0\u001b[0m\u001b[0;34m]\u001b[0m\u001b[0;34m)\u001b[0m\u001b[0;34m*\u001b[0m\u001b[0mvp\u001b[0m\u001b[0;34m)\u001b[0m\u001b[0;34m)\u001b[0m\u001b[0;34m\u001b[0m\u001b[0m\n\u001b[1;32m     10\u001b[0m     \u001b[0;32mfor\u001b[0m \u001b[0ms\u001b[0m \u001b[0;32min\u001b[0m \u001b[0mS\u001b[0m\u001b[0;34m:\u001b[0m\u001b[0;34m\u001b[0m\u001b[0m\n\u001b[0;32m---> 11\u001b[0;31m         \u001b[0mfitness\u001b[0m \u001b[0;34m+=\u001b[0m \u001b[0mfastdtw\u001b[0m\u001b[0;34m(\u001b[0m\u001b[0ms\u001b[0m\u001b[0;34m,\u001b[0m \u001b[0mC\u001b[0m\u001b[0;34m,\u001b[0m \u001b[0mradius\u001b[0m\u001b[0;34m=\u001b[0m\u001b[0mradio\u001b[0m\u001b[0;34m)\u001b[0m\u001b[0;34m[\u001b[0m\u001b[0;36m0\u001b[0m\u001b[0;34m]\u001b[0m\u001b[0;34m**\u001b[0m\u001b[0;36m2\u001b[0m\u001b[0;34m\u001b[0m\u001b[0m\n\u001b[0m\u001b[1;32m     12\u001b[0m     \u001b[0;32mreturn\u001b[0m \u001b[0mfitness\u001b[0m\u001b[0;34m,\u001b[0m\u001b[0;34m\u001b[0m\u001b[0m\n\u001b[1;32m     13\u001b[0m \u001b[0;34m\u001b[0m\u001b[0m\n",
      "\u001b[0;32m/home/pablo/Documentos/TFG/repositorio/ag-costane/Fuentes/funciones_AG/segmentsf/fastdtw.pyc\u001b[0m in \u001b[0;36mfastdtw\u001b[0;34m(x, y, radius, dist)\u001b[0m\n\u001b[1;32m     63\u001b[0m         \u001b[0mdist\u001b[0m \u001b[0;34m=\u001b[0m \u001b[0m__norm\u001b[0m\u001b[0;34m(\u001b[0m\u001b[0mp\u001b[0m\u001b[0;34m=\u001b[0m\u001b[0mdist\u001b[0m\u001b[0;34m)\u001b[0m\u001b[0;34m\u001b[0m\u001b[0m\n\u001b[1;32m     64\u001b[0m \u001b[0;34m\u001b[0m\u001b[0m\n\u001b[0;32m---> 65\u001b[0;31m     \u001b[0;32mreturn\u001b[0m \u001b[0m__fastdtw\u001b[0m\u001b[0;34m(\u001b[0m\u001b[0mx\u001b[0m\u001b[0;34m,\u001b[0m \u001b[0my\u001b[0m\u001b[0;34m,\u001b[0m \u001b[0mradius\u001b[0m\u001b[0;34m,\u001b[0m \u001b[0mdist\u001b[0m\u001b[0;34m)\u001b[0m\u001b[0;34m\u001b[0m\u001b[0m\n\u001b[0m\u001b[1;32m     66\u001b[0m \u001b[0;34m\u001b[0m\u001b[0m\n\u001b[1;32m     67\u001b[0m \u001b[0;34m\u001b[0m\u001b[0m\n",
      "\u001b[0;32m/home/pablo/Documentos/TFG/repositorio/ag-costane/Fuentes/funciones_AG/segmentsf/fastdtw.pyc\u001b[0m in \u001b[0;36m__fastdtw\u001b[0;34m(x, y, radius, dist)\u001b[0m\n\u001b[1;32m     84\u001b[0m     \u001b[0mdistance\u001b[0m\u001b[0;34m,\u001b[0m \u001b[0mpath\u001b[0m \u001b[0;34m=\u001b[0m\u001b[0;31m \u001b[0m\u001b[0;31m\\\u001b[0m\u001b[0;34m\u001b[0m\u001b[0m\n\u001b[1;32m     85\u001b[0m         \u001b[0m__fastdtw\u001b[0m\u001b[0;34m(\u001b[0m\u001b[0mx_shrinked\u001b[0m\u001b[0;34m,\u001b[0m \u001b[0my_shrinked\u001b[0m\u001b[0;34m,\u001b[0m \u001b[0mradius\u001b[0m\u001b[0;34m=\u001b[0m\u001b[0mradius\u001b[0m\u001b[0;34m,\u001b[0m \u001b[0mdist\u001b[0m\u001b[0;34m=\u001b[0m\u001b[0mdist\u001b[0m\u001b[0;34m)\u001b[0m\u001b[0;34m\u001b[0m\u001b[0m\n\u001b[0;32m---> 86\u001b[0;31m     \u001b[0mwindow\u001b[0m \u001b[0;34m=\u001b[0m \u001b[0m__expand_window\u001b[0m\u001b[0;34m(\u001b[0m\u001b[0mpath\u001b[0m\u001b[0;34m,\u001b[0m \u001b[0mlen\u001b[0m\u001b[0;34m(\u001b[0m\u001b[0mx\u001b[0m\u001b[0;34m)\u001b[0m\u001b[0;34m,\u001b[0m \u001b[0mlen\u001b[0m\u001b[0;34m(\u001b[0m\u001b[0my\u001b[0m\u001b[0;34m)\u001b[0m\u001b[0;34m,\u001b[0m \u001b[0mradius\u001b[0m\u001b[0;34m)\u001b[0m\u001b[0;34m\u001b[0m\u001b[0m\n\u001b[0m\u001b[1;32m     87\u001b[0m     \u001b[0;32mreturn\u001b[0m \u001b[0mdtw\u001b[0m\u001b[0;34m(\u001b[0m\u001b[0mx\u001b[0m\u001b[0;34m,\u001b[0m \u001b[0my\u001b[0m\u001b[0;34m,\u001b[0m \u001b[0mwindow\u001b[0m\u001b[0;34m,\u001b[0m \u001b[0mdist\u001b[0m\u001b[0;34m=\u001b[0m\u001b[0mdist\u001b[0m\u001b[0;34m)\u001b[0m\u001b[0;34m\u001b[0m\u001b[0m\n\u001b[1;32m     88\u001b[0m \u001b[0;34m\u001b[0m\u001b[0m\n",
      "\u001b[0;32m/home/pablo/Documentos/TFG/repositorio/ag-costane/Fuentes/funciones_AG/segmentsf/fastdtw.pyc\u001b[0m in \u001b[0;36m__expand_window\u001b[0;34m(path, len_x, len_y, radius)\u001b[0m\n\u001b[1;32m    164\u001b[0m                     \u001b[0mnew_start_j\u001b[0m \u001b[0;34m=\u001b[0m \u001b[0mj\u001b[0m\u001b[0;34m\u001b[0m\u001b[0m\n\u001b[1;32m    165\u001b[0m             \u001b[0;32melif\u001b[0m \u001b[0mnew_start_j\u001b[0m \u001b[0;32mis\u001b[0m \u001b[0;32mnot\u001b[0m \u001b[0mNone\u001b[0m\u001b[0;34m:\u001b[0m\u001b[0;34m\u001b[0m\u001b[0m\n\u001b[0;32m--> 166\u001b[0;31m                 \u001b[0;32mbreak\u001b[0m\u001b[0;34m\u001b[0m\u001b[0m\n\u001b[0m\u001b[1;32m    167\u001b[0m         \u001b[0mstart_j\u001b[0m \u001b[0;34m=\u001b[0m \u001b[0mnew_start_j\u001b[0m\u001b[0;34m\u001b[0m\u001b[0m\n\u001b[1;32m    168\u001b[0m \u001b[0;34m\u001b[0m\u001b[0m\n",
      "\u001b[0;31mKeyboardInterrupt\u001b[0m: "
     ]
    }
   ],
   "source": [
    "#Seleccion de algoritmo\n",
    "algoritmos = [algorithms.eaSimple, algorithms.eaMuCommaLambda, algorithms.eaMuPlusLambda]\n",
    "algoritmos_resultados = []\n",
    "algoritmos_names = ['eaSimple', 'eaMuCommaLambda', 'eaMuPlusLambda']\n",
    "\n",
    "toolbox = base.Toolbox()\n",
    "\n",
    "\n",
    "for datos in datasets:\n",
    "    S = read_series('../../Datos/aux/{0}.csv'.format(datos))\n",
    "    S = ss.fit_transform(S)\n",
    "    register_general_operators(toolbox, S)\n",
    "    for i, algoritmo in enumerate(algoritmos):\n",
    "        print 'Algoritmo[{0}]: {1}'.format(algoritmos_names[i], datos)     \n",
    "\n",
    "        pop = toolbox.population(n=POPULATION)\n",
    "        hof = tools.HallOfFame(3)\n",
    "        stats = tools.Statistics(lambda ind: ind.fitness.values)\n",
    "        stats.register(\"avg\", np.mean)\n",
    "        stats.register(\"std\", np.std)\n",
    "        stats.register(\"min\", np.min)\n",
    "        stats.register(\"max\", np.max)\n",
    "        \n",
    "        t1 = time.time()\n",
    "\n",
    "        if algoritmos_names[i] == 'eaSimple':\n",
    "            pop, log = algoritmos[i](pop, \n",
    "                                     toolbox, \n",
    "                                     cxpb=CXPB, \n",
    "                                     mutpb=MUTPB,\n",
    "                                     ngen=GENERACIONES, \n",
    "                                     stats = stats, \n",
    "                                     halloffame=hof, \n",
    "                                     verbose=False)\n",
    "        elif algoritmos_names[i] == 'eaMuCommaLambda':\n",
    "            pop, log = algoritmos[i](pop, \n",
    "                                     toolbox, \n",
    "                                     lambda_ = LAMBDA, \n",
    "                                     mu = MU, \n",
    "                                     cxpb=CXPB, \n",
    "                                     mutpb=MUTPB, \n",
    "                                     ngen=GENERACIONES, \n",
    "                                     stats = stats, \n",
    "                                     halloffame=hof, \n",
    "                                     verbose=False)\n",
    "        else:\n",
    "            pop, log = algoritmos[i](pop, \n",
    "                                     toolbox, \n",
    "                                     lambda_ = LAMBDA, \n",
    "                                     mu = MU, \n",
    "                                     cxpb=CXPB, \n",
    "                                     mutpb=MUTPB, \n",
    "                                     ngen=GENERACIONES, \n",
    "                                     stats = stats, \n",
    "                                     halloffame=hof, \n",
    "                                     verbose=False)\n",
    "        tfinal = time.time() - t1\n",
    "\n",
    "        print 'Fitness mejor serie: ', hof[0].fitness.values[0]\n",
    "        algoritmos_resultados.append([algoritmos_names[i], datos, hof[0].fitness.values[0], tfinal])\n",
    "\n",
    "\n",
    "print tabulate(algoritmos_resultados, headers=['Algoritmo', 'Dataset', 'Fitness', 'Tiempo(s)'])\n",
    "\n",
    "f = open('algoritmos_medidas.csv', 'w')\n",
    "csvf =csv.writer(f)\n",
    "csvf.writerow(['Algoritmo', 'Dataset', 'Fitness', 'Tiempo(s)'])\n",
    "csvf.writerows(algoritmos_resultados)"
   ]
  },
  {
   "cell_type": "code",
   "execution_count": null,
   "metadata": {
    "collapsed": true
   },
   "outputs": [],
   "source": [
    "generarar = [generate.random_generate, generate.sample_generate]\n",
    "generar_resultados = []\n",
    "generar_names = ['random', 'sample']"
   ]
  },
  {
   "cell_type": "code",
   "execution_count": null,
   "metadata": {
    "collapsed": true
   },
   "outputs": [],
   "source": [
    "rondas_torneo = [5, 10, 20]\n",
    "rondas_torneo_resultados = [] \n",
    "ronda_torneo_names = ['5', '10', '20']"
   ]
  },
  {
   "cell_type": "code",
   "execution_count": null,
   "metadata": {
    "collapsed": true
   },
   "outputs": [],
   "source": [
    "deplazamiento_horizontal_mutacion = [.05, .075, .1, .15, .2]\n",
    "desplazamiento_horizontal_mutacion_resultados = []\n",
    "desplazamiento_horizontal_mutacion_names = ['5%', '7.5%', '10%', '15%', '20%']"
   ]
  },
  {
   "cell_type": "code",
   "execution_count": null,
   "metadata": {
    "collapsed": true
   },
   "outputs": [],
   "source": [
    "desplazamiento_vertical_mutacion = [.01, .025, .05, .075, .1, .15, .2]\n",
    "desplazamiento_vertical_mutacion_resultados = []\n",
    "desplazamiento_vertical_mutacion_names = ['1%', '2.5%', '5%', '7.5%', '10%', '15%', '20%']"
   ]
  },
  {
   "cell_type": "code",
   "execution_count": 7,
   "metadata": {
    "collapsed": false
   },
   "outputs": [
    {
     "data": {
      "text/plain": [
       "[-12,\n",
       " -11,\n",
       " -10,\n",
       " -9,\n",
       " -8,\n",
       " -7,\n",
       " -6,\n",
       " -5,\n",
       " -4,\n",
       " -3,\n",
       " -2,\n",
       " -1,\n",
       " 0,\n",
       " 1,\n",
       " 2,\n",
       " 3,\n",
       " 4,\n",
       " 5,\n",
       " 6,\n",
       " 7,\n",
       " 8,\n",
       " 9,\n",
       " 10,\n",
       " 11,\n",
       " 12]"
      ]
     },
     "execution_count": 7,
     "metadata": {},
     "output_type": "execute_result"
    }
   ],
   "source": [
    "range(int(-123 * 0.1), int(123 * 0.1)+1)"
   ]
  },
  {
   "cell_type": "code",
   "execution_count": null,
   "metadata": {
    "collapsed": true
   },
   "outputs": [],
   "source": []
  }
 ],
 "metadata": {
  "kernelspec": {
   "display_name": "Python 2",
   "language": "python",
   "name": "python2"
  },
  "language_info": {
   "codemirror_mode": {
    "name": "ipython",
    "version": 2
   },
   "file_extension": ".py",
   "mimetype": "text/x-python",
   "name": "python",
   "nbconvert_exporter": "python",
   "pygments_lexer": "ipython2",
   "version": "2.7.13"
  }
 },
 "nbformat": 4,
 "nbformat_minor": 2
}
